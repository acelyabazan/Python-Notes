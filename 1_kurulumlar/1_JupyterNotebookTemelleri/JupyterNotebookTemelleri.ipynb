{
 "cells": [
  {
   "cell_type": "code",
   "execution_count": 1,
   "id": "15d62ee8-e967-4fad-b1ab-eef083e8c05f",
   "metadata": {},
   "outputs": [
    {
     "name": "stdout",
     "output_type": "stream",
     "text": [
      "Hello World\n"
     ]
    }
   ],
   "source": [
    "print(\"Hello World\")"
   ]
  },
  {
   "cell_type": "code",
   "execution_count": 2,
   "id": "5e4394ed-97df-4655-80a5-d33a1e4960d5",
   "metadata": {},
   "outputs": [
    {
     "name": "stdout",
     "output_type": "stream",
     "text": [
      "Python 2. Kod Hücresi\n"
     ]
    }
   ],
   "source": [
    "print(\"Python 2. Kod Hücresi\")"
   ]
  },
  {
   "cell_type": "markdown",
   "id": "02453b29-ad87-409e-b575-4396a3241016",
   "metadata": {},
   "source": [
    "<b> Bu Bir Biçimlendirilmiş Metin Hücresidir.</b>"
   ]
  },
  {
   "cell_type": "markdown",
   "id": "951a72b7-6a4c-4205-a33b-3f0db59e4490",
   "metadata": {},
   "source": [
    "**Bu Metin De** Koyudur."
   ]
  },
  {
   "cell_type": "raw",
   "id": "5fd25544-ceca-4575-98f9-645f2b177002",
   "metadata": {},
   "source": [
    "Bu Hücre Raw Tipidir."
   ]
  },
  {
   "cell_type": "code",
   "execution_count": 3,
   "id": "57ea6f9c-697a-41f5-8a52-2947b26f6527",
   "metadata": {},
   "outputs": [
    {
     "data": {
      "text/plain": [
       "35"
      ]
     },
     "execution_count": 3,
     "metadata": {},
     "output_type": "execute_result"
    }
   ],
   "source": [
    "7 * 5"
   ]
  },
  {
   "cell_type": "code",
   "execution_count": 4,
   "id": "4345b029-7679-4949-bfb5-ce403e1c3ae2",
   "metadata": {},
   "outputs": [
    {
     "name": "stdout",
     "output_type": "stream",
     "text": [
      "Kopya Hücre\n"
     ]
    }
   ],
   "source": [
    "print(\"Kopya Hücre\")"
   ]
  }
 ],
 "metadata": {
  "kernelspec": {
   "display_name": "Python 3 (ipykernel)",
   "language": "python",
   "name": "python3"
  },
  "language_info": {
   "codemirror_mode": {
    "name": "ipython",
    "version": 3
   },
   "file_extension": ".py",
   "mimetype": "text/x-python",
   "name": "python",
   "nbconvert_exporter": "python",
   "pygments_lexer": "ipython3",
   "version": "3.10.8"
  }
 },
 "nbformat": 4,
 "nbformat_minor": 5
}
