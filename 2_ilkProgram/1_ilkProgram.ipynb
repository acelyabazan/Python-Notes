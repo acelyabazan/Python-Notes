{
 "cells": [
  {
   "cell_type": "markdown",
   "id": "7dfda6a7-ba61-40d5-9e5f-9385a838d3ea",
   "metadata": {},
   "source": [
    "# İlk Program"
   ]
  },
  {
   "cell_type": "markdown",
   "id": "7f9e1f18-7939-42d5-ac36-d5de3ebfe141",
   "metadata": {},
   "source": [
    "## Merhaba Dünya (Hello World)"
   ]
  },
  {
   "cell_type": "markdown",
   "id": "710ac147-ae13-4d89-9ce2-000404954b5f",
   "metadata": {},
   "source": [
    "**Program:** Bir işlemin nasıl yapılacağını bilgisayara anlatan yönergelere **program** denir."
   ]
  },
  {
   "cell_type": "code",
   "execution_count": 1,
   "id": "0b2036f8-62f6-4d95-9f38-fe43e5de43ef",
   "metadata": {},
   "outputs": [
    {
     "name": "stdout",
     "output_type": "stream",
     "text": [
      "Hello World\n"
     ]
    }
   ],
   "source": [
    "print(\"Hello World\")"
   ]
  },
  {
   "cell_type": "code",
   "execution_count": 2,
   "id": "7ae6253a-3c80-4dae-b2a5-1a5375f2f324",
   "metadata": {},
   "outputs": [
    {
     "name": "stdout",
     "output_type": "stream",
     "text": [
      "Bu benim ilk programım :)\n"
     ]
    }
   ],
   "source": [
    "print(\"Bu benim ilk programım :)\")"
   ]
  },
  {
   "cell_type": "markdown",
   "id": "eb62ec8a-7a05-49b1-a0da-db88e648f66a",
   "metadata": {},
   "source": [
    "---"
   ]
  }
 ],
 "metadata": {
  "kernelspec": {
   "display_name": "Python 3 (ipykernel)",
   "language": "python",
   "name": "python3"
  },
  "language_info": {
   "codemirror_mode": {
    "name": "ipython",
    "version": 3
   },
   "file_extension": ".py",
   "mimetype": "text/x-python",
   "name": "python",
   "nbconvert_exporter": "python",
   "pygments_lexer": "ipython3",
   "version": "3.10.8"
  }
 },
 "nbformat": 4,
 "nbformat_minor": 5
}
