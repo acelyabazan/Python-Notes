{
 "cells": [
  {
   "cell_type": "markdown",
   "id": "ecdb7a33-71c6-45f0-a2f9-4b6e496bd538",
   "metadata": {},
   "source": [
    "**Aritmetik İşlemler**\n",
    "\n",
    "* Toplama: +\n",
    "* Çıkarma: -\n",
    "* Çarpma: *\n",
    "* Bölme: /\n",
    "* Üstel: **\n",
    "* Mod: %\n",
    "* Tam Sayılı Bölme: **"
   ]
  },
  {
   "cell_type": "code",
   "execution_count": 1,
   "id": "f9c2c5c1-36f3-4db8-a15b-2cc29bf83b3b",
   "metadata": {},
   "outputs": [
    {
     "data": {
      "text/plain": [
       "11"
      ]
     },
     "execution_count": 1,
     "metadata": {},
     "output_type": "execute_result"
    }
   ],
   "source": [
    "10 + 1"
   ]
  },
  {
   "cell_type": "code",
   "execution_count": 2,
   "id": "bced6810-390f-4de7-9b6b-6117c37330e5",
   "metadata": {},
   "outputs": [
    {
     "data": {
      "text/plain": [
       "9"
      ]
     },
     "execution_count": 2,
     "metadata": {},
     "output_type": "execute_result"
    }
   ],
   "source": [
    "10 - 1"
   ]
  },
  {
   "cell_type": "code",
   "execution_count": 3,
   "id": "7aea9d75-907c-427e-af84-30894c4d0656",
   "metadata": {},
   "outputs": [
    {
     "data": {
      "text/plain": [
       "40"
      ]
     },
     "execution_count": 3,
     "metadata": {},
     "output_type": "execute_result"
    }
   ],
   "source": [
    "5 * 8"
   ]
  },
  {
   "cell_type": "code",
   "execution_count": 4,
   "id": "f8c6495d-7361-4935-abc4-bf948f2da9d6",
   "metadata": {},
   "outputs": [
    {
     "data": {
      "text/plain": [
       "8.0"
      ]
     },
     "execution_count": 4,
     "metadata": {},
     "output_type": "execute_result"
    }
   ],
   "source": [
    "80 / 10"
   ]
  },
  {
   "cell_type": "code",
   "execution_count": 5,
   "id": "a6cf4f14-daf8-4d80-a54d-5845294d3d4e",
   "metadata": {},
   "outputs": [
    {
     "data": {
      "text/plain": [
       "8"
      ]
     },
     "execution_count": 5,
     "metadata": {},
     "output_type": "execute_result"
    }
   ],
   "source": [
    "80 // 10"
   ]
  },
  {
   "cell_type": "code",
   "execution_count": 6,
   "id": "179a4e11-73c0-463a-95d5-b3f5beaebe6b",
   "metadata": {},
   "outputs": [
    {
     "data": {
      "text/plain": [
       "9"
      ]
     },
     "execution_count": 6,
     "metadata": {},
     "output_type": "execute_result"
    }
   ],
   "source": [
    "3 ** 2"
   ]
  },
  {
   "cell_type": "code",
   "execution_count": 7,
   "id": "b16cae90-b435-49fc-911e-b987dae53be5",
   "metadata": {},
   "outputs": [
    {
     "data": {
      "text/plain": [
       "4"
      ]
     },
     "execution_count": 7,
     "metadata": {},
     "output_type": "execute_result"
    }
   ],
   "source": [
    "64 % 5"
   ]
  }
 ],
 "metadata": {
  "kernelspec": {
   "display_name": "Python 3 (ipykernel)",
   "language": "python",
   "name": "python3"
  },
  "language_info": {
   "codemirror_mode": {
    "name": "ipython",
    "version": 3
   },
   "file_extension": ".py",
   "mimetype": "text/x-python",
   "name": "python",
   "nbconvert_exporter": "python",
   "pygments_lexer": "ipython3",
   "version": "3.10.8"
  }
 },
 "nbformat": 4,
 "nbformat_minor": 5
}
