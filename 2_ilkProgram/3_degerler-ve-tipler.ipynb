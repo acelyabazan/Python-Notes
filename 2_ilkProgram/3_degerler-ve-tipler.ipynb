{
 "cells": [
  {
   "cell_type": "markdown",
   "id": "b0de2dfc-6e5e-464f-996c-2fee32e37891",
   "metadata": {},
   "source": [
    "# Değerler ve Tipler"
   ]
  },
  {
   "cell_type": "markdown",
   "id": "59241cb1-ae13-4d7c-b33d-0538dc4f5728",
   "metadata": {},
   "source": [
    "**Değerler:** Program içerisinde anlam taşıyan yapılardır. Programın hafızasında yer tutar.\n",
    "\n",
    "**Tipler:** Bu hafızanın hangi formatta olacığını söyler."
   ]
  },
  {
   "cell_type": "code",
   "execution_count": 1,
   "id": "3fe0c43e-f0d9-43f1-8338-f2d8066e3c84",
   "metadata": {},
   "outputs": [
    {
     "data": {
      "text/plain": [
       "'Hello World'"
      ]
     },
     "execution_count": 1,
     "metadata": {},
     "output_type": "execute_result"
    }
   ],
   "source": [
    "\"Hello World\""
   ]
  },
  {
   "cell_type": "code",
   "execution_count": 3,
   "id": "30bc2098-90d3-4c9f-b0ce-c2a559e47c81",
   "metadata": {},
   "outputs": [
    {
     "data": {
      "text/plain": [
       "str"
      ]
     },
     "execution_count": 3,
     "metadata": {},
     "output_type": "execute_result"
    }
   ],
   "source": [
    "type(\"Hello World\")"
   ]
  },
  {
   "cell_type": "code",
   "execution_count": 4,
   "id": "bb8a3dc0-c3b9-42df-8e27-c88de96e429e",
   "metadata": {},
   "outputs": [
    {
     "data": {
      "text/plain": [
       "11"
      ]
     },
     "execution_count": 4,
     "metadata": {},
     "output_type": "execute_result"
    }
   ],
   "source": [
    "11"
   ]
  },
  {
   "cell_type": "code",
   "execution_count": 5,
   "id": "48bc4572-002a-4be9-a28f-13c549d42348",
   "metadata": {},
   "outputs": [
    {
     "data": {
      "text/plain": [
       "int"
      ]
     },
     "execution_count": 5,
     "metadata": {},
     "output_type": "execute_result"
    }
   ],
   "source": [
    "type(11)"
   ]
  },
  {
   "cell_type": "code",
   "execution_count": 6,
   "id": "76fa3710-e8e4-45d3-922c-fcef4405db09",
   "metadata": {},
   "outputs": [
    {
     "name": "stdout",
     "output_type": "stream",
     "text": [
      "<class 'float'>\n"
     ]
    }
   ],
   "source": [
    "print(type(11.1))"
   ]
  },
  {
   "cell_type": "code",
   "execution_count": 7,
   "id": "07213d82-e05f-47d4-8f23-6d8e4e6c5b2a",
   "metadata": {},
   "outputs": [
    {
     "data": {
      "text/plain": [
       "float"
      ]
     },
     "execution_count": 7,
     "metadata": {},
     "output_type": "execute_result"
    }
   ],
   "source": [
    "type(11.1)"
   ]
  }
 ],
 "metadata": {
  "kernelspec": {
   "display_name": "Python 3 (ipykernel)",
   "language": "python",
   "name": "python3"
  },
  "language_info": {
   "codemirror_mode": {
    "name": "ipython",
    "version": 3
   },
   "file_extension": ".py",
   "mimetype": "text/x-python",
   "name": "python",
   "nbconvert_exporter": "python",
   "pygments_lexer": "ipython3",
   "version": "3.10.8"
  }
 },
 "nbformat": 4,
 "nbformat_minor": 5
}
