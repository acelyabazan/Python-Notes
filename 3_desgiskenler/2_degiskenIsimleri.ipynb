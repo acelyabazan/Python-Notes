{
 "cells": [
  {
   "cell_type": "markdown",
   "id": "5fe6fc9e-95ca-4934-984c-a7d8741cc4e4",
   "metadata": {
    "tags": []
   },
   "source": [
    "## Değişken İsimleri"
   ]
  },
  {
   "cell_type": "markdown",
   "id": "0cbacd4f-95db-40b0-ba6e-4068db239be7",
   "metadata": {},
   "source": [
    "**Python'da Değişken İsimleri:**\n",
    "\n",
    "* Seçtiğiniz değişken ismi anlamlı, kendi adına konuşan isimler olmalıdır.\n",
    "* Genelde snake_case isimlendirme kullanılır.\n",
    "\n",
    "ortalama_hiz \n",
    "sesli_harfler\n",
    "\n",
    "**Değişken İsimleri:** \n",
    "* Sayı ile başlayamaz\n",
    "    * 1sayi\n",
    "    * 2.deger\n",
    "    \n",
    "* Boşluk karakteri olamaz\n",
    "    * ortalama hiz\n",
    "    \n",
    "* özel karakter bulunduramaz\n",
    "    * @, -, +, * vs.\n",
    "    * @sayi\n",
    "* keyword (anahtar kelime) içeremez"
   ]
  },
  {
   "cell_type": "markdown",
   "id": "8cdc5912-292d-4cd4-9298-30e378b4086c",
   "metadata": {},
   "source": [
    "SyntaxError: Söz dizimi Hatası"
   ]
  },
  {
   "cell_type": "markdown",
   "id": "a20208fd-d5cd-49fb-9eef-6eb32201c3bd",
   "metadata": {},
   "source": [
    "**Keyword:** for, True, return, try..."
   ]
  },
  {
   "cell_type": "markdown",
   "id": "ee272a22-ebb2-4eca-b110-c0739e9c3c97",
   "metadata": {},
   "source": [
    "**Önemli:** Python'da **BÜYÜK-küçük** eşit değildir."
   ]
  },
  {
   "cell_type": "code",
   "execution_count": 3,
   "id": "343c68f8-7dc4-4ad6-9b18-84f833bf0454",
   "metadata": {},
   "outputs": [
    {
     "name": "stdout",
     "output_type": "stream",
     "text": [
      "2\n"
     ]
    }
   ],
   "source": [
    "sayi = 1\n",
    "Sayi = 2\n",
    "\n",
    "print(Sayi)"
   ]
  },
  {
   "cell_type": "markdown",
   "id": "07185fff-ad51-4cbc-87ec-edb0a2180e82",
   "metadata": {},
   "source": [
    "**Değişken adlarında Türkçe karakter kullanmayın!**"
   ]
  },
  {
   "cell_type": "code",
   "execution_count": 2,
   "id": "d4ca1264-421b-4842-b12f-ee09f0213b1a",
   "metadata": {},
   "outputs": [
    {
     "name": "stdout",
     "output_type": "stream",
     "text": [
      "15\n"
     ]
    }
   ],
   "source": [
    "deger = 15\n",
    "\n",
    "print(deger)"
   ]
  }
 ],
 "metadata": {
  "kernelspec": {
   "display_name": "Python 3 (ipykernel)",
   "language": "python",
   "name": "python3"
  },
  "language_info": {
   "codemirror_mode": {
    "name": "ipython",
    "version": 3
   },
   "file_extension": ".py",
   "mimetype": "text/x-python",
   "name": "python",
   "nbconvert_exporter": "python",
   "pygments_lexer": "ipython3",
   "version": "3.9.13"
  }
 },
 "nbformat": 4,
 "nbformat_minor": 5
}
