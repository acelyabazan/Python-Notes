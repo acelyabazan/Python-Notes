{
 "cells": [
  {
   "cell_type": "markdown",
   "id": "e76829d1-c013-4839-91a0-184229715482",
   "metadata": {},
   "source": [
    "## Python Veri Tipleri"
   ]
  },
  {
   "cell_type": "markdown",
   "id": "c52bcfcc-2405-4991-bc7e-dc51c71fce8c",
   "metadata": {},
   "source": [
    "**Python Veri Tipleri:**\n",
    "\n",
    "* Text (Metin) Tipi: str\n",
    "* Numerik Tipleri: **int, float**\n",
    "* Liste Tipleri: **list, tuple, range**\n",
    "* İlişki Tipi: **dict**\n",
    "* Küme Tipi: **set**\n",
    "* Boolean Tipi: **bool**"
   ]
  },
  {
   "cell_type": "markdown",
   "id": "52624eb6-419b-420d-9b0f-fb64d9cb4584",
   "metadata": {},
   "source": [
    "**Bir değişken tipi:** `type()`"
   ]
  },
  {
   "cell_type": "code",
   "execution_count": 2,
   "id": "d45992b9-1fd3-4805-a4e8-d4c9189b0199",
   "metadata": {},
   "outputs": [
    {
     "name": "stdout",
     "output_type": "stream",
     "text": [
      "<class 'str'>\n"
     ]
    }
   ],
   "source": [
    "metin = \"Bu bir metin tipidir.\"\n",
    "print(type(metin))"
   ]
  },
  {
   "cell_type": "code",
   "execution_count": 4,
   "id": "32106d14-8a07-41d3-b093-b8038438e720",
   "metadata": {},
   "outputs": [
    {
     "name": "stdout",
     "output_type": "stream",
     "text": [
      "<class 'int'>\n"
     ]
    }
   ],
   "source": [
    "tamSayi = 16\n",
    "print(type(tamSayi))"
   ]
  },
  {
   "cell_type": "code",
   "execution_count": 7,
   "id": "fab440fc-def1-43cd-aba5-6b833852a481",
   "metadata": {},
   "outputs": [
    {
     "name": "stdout",
     "output_type": "stream",
     "text": [
      "<class 'float'>\n"
     ]
    }
   ],
   "source": [
    "kesirli_sayi = 3.14\n",
    "print(type(kesirli_sayi))"
   ]
  },
  {
   "cell_type": "code",
   "execution_count": 11,
   "id": "20868bfe-e5bc-4aa5-9f6f-e4c2df90072f",
   "metadata": {},
   "outputs": [
    {
     "name": "stdout",
     "output_type": "stream",
     "text": [
      "[1, 2, 3, 4, 5]\n",
      "<class 'list'>\n"
     ]
    }
   ],
   "source": [
    "liste = [1, 2, 3, 4, 5]\n",
    "print(liste)\n",
    "print(type(liste))"
   ]
  },
  {
   "cell_type": "code",
   "execution_count": 12,
   "id": "2c026673-a69c-4c1a-ad09-a769798bf4b8",
   "metadata": {},
   "outputs": [
    {
     "name": "stdout",
     "output_type": "stream",
     "text": [
      "('A', 'B', 'C')\n",
      "<class 'tuple'>\n"
     ]
    }
   ],
   "source": [
    "uclu = ('A', 'B', 'C')\n",
    "print(uclu)\n",
    "print(type(uclu))"
   ]
  },
  {
   "cell_type": "code",
   "execution_count": 16,
   "id": "4543173a-2c9a-4474-8e6c-8b7ff77a1289",
   "metadata": {},
   "outputs": [
    {
     "name": "stdout",
     "output_type": "stream",
     "text": [
      "range(0, 10)\n",
      "<class 'range'>\n"
     ]
    }
   ],
   "source": [
    "onluk = range(10)\n",
    "print(onluk)\n",
    "print(type(onluk))"
   ]
  },
  {
   "cell_type": "code",
   "execution_count": 19,
   "id": "3c2e675b-f64f-40e4-8ef3-2ba3cc8edf8f",
   "metadata": {},
   "outputs": [
    {
     "name": "stdout",
     "output_type": "stream",
     "text": [
      "{'ad': 'Açelya', 'soyad': 'Bazan', 'programlama': 'Python'}\n",
      "<class 'dict'>\n"
     ]
    }
   ],
   "source": [
    "sozluk = {\n",
    "    \"ad\": \"Açelya\",\n",
    "    \"soyad\": \"Bazan\",\n",
    "    \"programlama\": \"Python\"\n",
    "}\n",
    "\n",
    "print(sozluk)\n",
    "print(type(sozluk))"
   ]
  },
  {
   "cell_type": "code",
   "execution_count": 21,
   "id": "7317f04c-cfa1-4299-ad92-c5ccb964481e",
   "metadata": {},
   "outputs": [
    {
     "name": "stdout",
     "output_type": "stream",
     "text": [
      "{1, 2, 3, 5, 8}\n",
      "<class 'set'>\n"
     ]
    }
   ],
   "source": [
    "kume = set([1, 2, 3, 5, 8, 2])\n",
    "print(kume)\n",
    "print(type(kume))"
   ]
  },
  {
   "cell_type": "code",
   "execution_count": 1,
   "id": "1c7ae636-e18d-4375-97a7-55a96aa22330",
   "metadata": {},
   "outputs": [
    {
     "name": "stdout",
     "output_type": "stream",
     "text": [
      "True\n",
      "False\n",
      "<class 'bool'>\n",
      "<class 'bool'>\n"
     ]
    }
   ],
   "source": [
    "dogru = True\n",
    "yanlis = False\n",
    "print(dogru)\n",
    "print(yanlis)\n",
    "\n",
    "print(type(dogru))\n",
    "print(type(yanlis))"
   ]
  }
 ],
 "metadata": {
  "kernelspec": {
   "display_name": "Python 3 (ipykernel)",
   "language": "python",
   "name": "python3"
  },
  "language_info": {
   "codemirror_mode": {
    "name": "ipython",
    "version": 3
   },
   "file_extension": ".py",
   "mimetype": "text/x-python",
   "name": "python",
   "nbconvert_exporter": "python",
   "pygments_lexer": "ipython3",
   "version": "3.9.13"
  }
 },
 "nbformat": 4,
 "nbformat_minor": 5
}
