{
 "cells": [
  {
   "cell_type": "markdown",
   "id": "02ddb701-253c-49e1-a061-eae18a5ca778",
   "metadata": {},
   "source": [
    "## Python'da Yorum Satırı"
   ]
  },
  {
   "cell_type": "markdown",
   "id": "6f1bef9e-cab0-428f-b29a-bb202486f32b",
   "metadata": {},
   "source": [
    "**Derleyici (Compiler):** Kaynak kodu, makine diline çeviren yazılımdır.\n",
    "\n",
    "Compiler, kod yazımı tamamlanınca, tek seferde tüm kodu makine diline çevirir."
   ]
  },
  {
   "cell_type": "markdown",
   "id": "cdd7eb07-283c-49ac-bbd1-5433acfba7da",
   "metadata": {},
   "source": [
    "**Yorumlayıcı (Interpreter):** Kaynak kodu, makine diline çeviren yazılımdır.\n",
    "\n",
    "Interpreter, kod yazılırken çevirir. Satır satır makine diline çevirir."
   ]
  },
  {
   "cell_type": "markdown",
   "id": "47107e5a-5017-44cf-addf-f5e41a48638a",
   "metadata": {},
   "source": [
    "**Yorum Satırı:** Yorum satırı, Python Interpreter tarafından göz ardı edlen satır.\n",
    "\n",
    "Interpeter, kod satırı gördüğünde çalıştırmaz."
   ]
  },
  {
   "cell_type": "code",
   "execution_count": 2,
   "id": "dd2602e4-59e3-4787-b42c-9f34e84ba527",
   "metadata": {},
   "outputs": [],
   "source": [
    "# Python'da tek satır kod\n",
    "# Bu da bir yorum satırıdır."
   ]
  },
  {
   "cell_type": "code",
   "execution_count": 4,
   "id": "15920c8c-3a6a-49f1-85b9-b76900a83bad",
   "metadata": {},
   "outputs": [
    {
     "name": "stdout",
     "output_type": "stream",
     "text": [
      "90000\n"
     ]
    }
   ],
   "source": [
    "# Bu değişken aracın km'sini tutar\n",
    "arac_km = 90000\n",
    "print(arac_km)"
   ]
  },
  {
   "cell_type": "code",
   "execution_count": 7,
   "id": "cf3f9b31-c76e-4b91-b53e-358900063c5c",
   "metadata": {},
   "outputs": [
    {
     "name": "stdout",
     "output_type": "stream",
     "text": [
      "75.0\n"
     ]
    }
   ],
   "source": [
    "# ortalama hız = gidilen mesafe / geçen süre\n",
    "\n",
    "# Çnce mesafe ve süreyin al\n",
    "gidilen_mesafe = 450  # km\n",
    "gecen_süre = 6        # saat\n",
    "\n",
    "# Ortalama Hız Hesaplama\n",
    "ortalama_hiz = gidilen_mesafe / gecen_süre\n",
    "# Bulduğumuz değeri yazdıralım\n",
    "\n",
    "print(ortalama_hiz)"
   ]
  },
  {
   "cell_type": "code",
   "execution_count": 8,
   "id": "f4c08269-718e-4dd4-848e-517344f6b421",
   "metadata": {},
   "outputs": [],
   "source": [
    "# TEK SATIR YORUM\n",
    "# Python Interpreter yorum satırlarını göz ardı eder.\n",
    "# O yüzden program çalışırken yorum satırı çalıştırılmaz."
   ]
  },
  {
   "cell_type": "code",
   "execution_count": 9,
   "id": "53498965-ca01-419c-acd1-e8afe45e3b86",
   "metadata": {},
   "outputs": [
    {
     "data": {
      "text/plain": [
       "\"\\nÇok Satır Yorum\\niki adet 3'lü tırnak ile gösterilir.\\n\\nBu örnekte olduğu gibi\\n\""
      ]
     },
     "execution_count": 9,
     "metadata": {},
     "output_type": "execute_result"
    }
   ],
   "source": [
    "# ÇOK SATIR YORUM\n",
    "\n",
    "\"\"\"\n",
    "Çok Satır Yorum\n",
    "iki adet 3'lü tırnak ile gösterilir.\n",
    "\n",
    "Bu örnekte olduğu gibi\n",
    "\"\"\""
   ]
  },
  {
   "cell_type": "code",
   "execution_count": 11,
   "id": "de4c7d49-fdd0-4376-959d-03490366ba4b",
   "metadata": {},
   "outputs": [
    {
     "name": "stdout",
     "output_type": "stream",
     "text": [
      "Satır1 \n",
      "Satır 2 \n",
      "Satır 3\n"
     ]
    }
   ],
   "source": [
    "cok_satir_metin = \"Satır1 \\nSatır 2 \\nSatır 3\"\n",
    "print(cok_satir_metin)"
   ]
  },
  {
   "cell_type": "markdown",
   "id": "2735a7c8-3dd6-43ee-ba64-c77d043f7616",
   "metadata": {},
   "source": [
    "`\\n` bir alt satıra geçer."
   ]
  },
  {
   "cell_type": "code",
   "execution_count": 12,
   "id": "03bba001-2d8c-4d07-b127-cbc0cd83cfe2",
   "metadata": {},
   "outputs": [
    {
     "name": "stdout",
     "output_type": "stream",
     "text": [
      "Selam sana\n",
      "Demir Ayak...\n"
     ]
    }
   ],
   "source": [
    "print(\"Selam sana\\nDemir Ayak...\")"
   ]
  },
  {
   "cell_type": "code",
   "execution_count": 13,
   "id": "9d655667-8261-4263-b661-067817cf69ab",
   "metadata": {},
   "outputs": [
    {
     "data": {
      "text/plain": [
       "'\\n    Bu satır 1\\n        Bu satır 2\\n            Bu satır 3\\n'"
      ]
     },
     "execution_count": 13,
     "metadata": {},
     "output_type": "execute_result"
    }
   ],
   "source": [
    "\"\"\"\n",
    "    Bu satır 1\n",
    "        Bu satır 2\n",
    "            Bu satır 3\n",
    "\"\"\""
   ]
  }
 ],
 "metadata": {
  "kernelspec": {
   "display_name": "Python 3 (ipykernel)",
   "language": "python",
   "name": "python3"
  },
  "language_info": {
   "codemirror_mode": {
    "name": "ipython",
    "version": 3
   },
   "file_extension": ".py",
   "mimetype": "text/x-python",
   "name": "python",
   "nbconvert_exporter": "python",
   "pygments_lexer": "ipython3",
   "version": "3.9.13"
  }
 },
 "nbformat": 4,
 "nbformat_minor": 5
}
