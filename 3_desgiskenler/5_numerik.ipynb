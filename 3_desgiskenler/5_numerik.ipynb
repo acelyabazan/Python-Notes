{
 "cells": [
  {
   "cell_type": "markdown",
   "id": "c57d9ac1-bcb5-4b3b-ab0e-55c4049b1e46",
   "metadata": {},
   "source": [
    "## Numerik Operasyonlar"
   ]
  },
  {
   "cell_type": "code",
   "execution_count": 8,
   "id": "b5681234-5306-4332-b017-d287a26d2596",
   "metadata": {},
   "outputs": [
    {
     "name": "stdout",
     "output_type": "stream",
     "text": [
      "30\n",
      "-10\n",
      "200\n",
      "0.5\n",
      "0\n",
      "10\n",
      "100000000000000000000\n"
     ]
    }
   ],
   "source": [
    "# Değişkenleri tanımla\n",
    "a = 10\n",
    "b = 20\n",
    "\n",
    "print(a + b) # toplama\n",
    "print(a - b) # çıkarma\n",
    "print(a * b) # çarpma\n",
    "print(a / b) # bölme\n",
    "print(a // b)# tam bölüm\n",
    "print(a % b) # mod\n",
    "print(a ** b)# üstel"
   ]
  },
  {
   "cell_type": "markdown",
   "id": "dca57487-64be-4435-b77b-80623bf8476c",
   "metadata": {},
   "source": [
    "**Öncelik Sırası:** Parantez, Üstel, Bölme, Çarpma, Toplama, Çıkarma `BEDMAS`"
   ]
  },
  {
   "cell_type": "code",
   "execution_count": 10,
   "id": "515acde7-8bfe-4577-bd52-51e70b959fe1",
   "metadata": {},
   "outputs": [
    {
     "name": "stdout",
     "output_type": "stream",
     "text": [
      "13.0\n"
     ]
    }
   ],
   "source": [
    "print(4 * 5 - 9 + 14 / 7)"
   ]
  },
  {
   "cell_type": "code",
   "execution_count": 13,
   "id": "bf18e1cb-8eb7-469b-9bf9-3a9fb00de8da",
   "metadata": {},
   "outputs": [
    {
     "name": "stdout",
     "output_type": "stream",
     "text": [
      "10\n"
     ]
    }
   ],
   "source": [
    "a = 9\n",
    "\n",
    "# a'yı bir arttır.\n",
    "a = a + 1\n",
    "\n",
    "print(a)"
   ]
  },
  {
   "cell_type": "code",
   "execution_count": 18,
   "id": "15fa6028-e80a-4624-ac71-a63eaf3070da",
   "metadata": {},
   "outputs": [
    {
     "name": "stdout",
     "output_type": "stream",
     "text": [
      "15\n"
     ]
    }
   ],
   "source": [
    "# kısa yoldan toplama\n",
    "a = 14\n",
    "a += 1\n",
    "\n",
    "print(a)"
   ]
  },
  {
   "cell_type": "code",
   "execution_count": 19,
   "id": "a0eccd88-6650-4467-95d7-f57e737740e7",
   "metadata": {},
   "outputs": [
    {
     "name": "stdout",
     "output_type": "stream",
     "text": [
      "13\n"
     ]
    }
   ],
   "source": [
    "#kısa yoldan çıkarma\n",
    "\n",
    "a = 14\n",
    "a -= 1\n",
    "print(a)"
   ]
  },
  {
   "cell_type": "code",
   "execution_count": 20,
   "id": "45886b82-e4e5-404c-8a4f-67fd4a6c3adf",
   "metadata": {},
   "outputs": [
    {
     "name": "stdout",
     "output_type": "stream",
     "text": [
      "15\n"
     ]
    }
   ],
   "source": [
    "# kısa yoldan çarpma\n",
    "\n",
    "a = 5\n",
    "a *= 3\n",
    "\n",
    "print(a)"
   ]
  },
  {
   "cell_type": "code",
   "execution_count": 22,
   "id": "d9cb844e-1849-46a0-8e80-4ed0d273ada5",
   "metadata": {},
   "outputs": [
    {
     "name": "stdout",
     "output_type": "stream",
     "text": [
      "2.0\n"
     ]
    }
   ],
   "source": [
    "# kısa yoldan bölme\n",
    "\n",
    "a = 10\n",
    "a /= 5\n",
    "\n",
    "print(a)"
   ]
  }
 ],
 "metadata": {
  "kernelspec": {
   "display_name": "Python 3 (ipykernel)",
   "language": "python",
   "name": "python3"
  },
  "language_info": {
   "codemirror_mode": {
    "name": "ipython",
    "version": 3
   },
   "file_extension": ".py",
   "mimetype": "text/x-python",
   "name": "python",
   "nbconvert_exporter": "python",
   "pygments_lexer": "ipython3",
   "version": "3.9.13"
  }
 },
 "nbformat": 4,
 "nbformat_minor": 5
}
