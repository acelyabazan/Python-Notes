{
 "cells": [
  {
   "cell_type": "markdown",
   "id": "a785d783-18d6-43ce-a8d0-b737f6bbf736",
   "metadata": {},
   "source": [
    "## String (Metin) İşlemleri"
   ]
  },
  {
   "cell_type": "markdown",
   "id": "3b2e8236-eb55-4c7f-bce1-d12d25b22c17",
   "metadata": {},
   "source": [
    "Python'da stirngler (Metinler) hem **tek tırnak (')** hem de **çift tırnak(\")** olarak gösterilir.\n",
    "\n",
    "* Dikkat etmeniz gereken, tırnakların tutarlı olması."
   ]
  },
  {
   "cell_type": "code",
   "execution_count": 2,
   "id": "56c1cad5-5f86-4b1e-a5eb-7446cd477eec",
   "metadata": {},
   "outputs": [
    {
     "name": "stdout",
     "output_type": "stream",
     "text": [
      "Bu çift tırnaklı bir metindir.\n"
     ]
    }
   ],
   "source": [
    "metin_cift = \"Bu çift tırnaklı bir metindir.\"\n",
    "\n",
    "print(metin_cift)"
   ]
  },
  {
   "cell_type": "code",
   "execution_count": 3,
   "id": "5aebc8be-fa9c-40b1-af98-08dc54ff2c84",
   "metadata": {},
   "outputs": [
    {
     "name": "stdout",
     "output_type": "stream",
     "text": [
      "Bu da tek tırnaklı bir metindir.\n"
     ]
    }
   ],
   "source": [
    "metin_tek = 'Bu da tek tırnaklı bir metindir.'\n",
    "\n",
    "print(metin_tek)"
   ]
  },
  {
   "cell_type": "code",
   "execution_count": 4,
   "id": "c976ec95-205e-4fbd-9707-f26baa079f65",
   "metadata": {},
   "outputs": [
    {
     "name": "stdout",
     "output_type": "stream",
     "text": [
      "Ilgaz Anadolu'nun sen yüce bir dağısın.\n"
     ]
    }
   ],
   "source": [
    "# Her ikisini de kullanmamız gerekir ise;\n",
    "metin_iki_icinde_bir_tirnak = \"Ilgaz Anadolu'nun sen yüce bir dağısın.\"\n",
    "\n",
    "print(metin_iki_icinde_bir_tirnak)"
   ]
  },
  {
   "cell_type": "code",
   "execution_count": 6,
   "id": "ced53366-e513-4d8e-ac77-6d2d17caa72e",
   "metadata": {},
   "outputs": [
    {
     "name": "stdout",
     "output_type": "stream",
     "text": [
      "Alice şöyle bağırdı \"Koş tavşan koş\".\n"
     ]
    }
   ],
   "source": [
    "metin_tek_icinde_iki_tirnak = 'Alice şöyle bağırdı \"Koş tavşan koş\".'\n",
    "\n",
    "print(metin_tek_icinde_iki_tirnak)"
   ]
  },
  {
   "cell_type": "markdown",
   "id": "04888204-6086-46d0-ab3c-47e279f295b3",
   "metadata": {},
   "source": [
    "Python'da metğinler (str) üzerinde aritmetik işlemler yapamazsınız."
   ]
  },
  {
   "cell_type": "markdown",
   "id": "774eeac1-6241-4ec6-b75c-301cae17ef38",
   "metadata": {},
   "source": [
    "**İstisna:** Toplama ve çarpma yapılabilir. (str ile)"
   ]
  },
  {
   "cell_type": "code",
   "execution_count": 11,
   "id": "fb34b79f-6c9f-4ff1-be38-454a3fdc299c",
   "metadata": {},
   "outputs": [
    {
     "name": "stdout",
     "output_type": "stream",
     "text": [
      "GüneşliGünler\n"
     ]
    }
   ],
   "source": [
    "birinci = \"Güneşli\"\n",
    "ikinci = \"Günler\"\n",
    "\n",
    "# Metinlerde toplama işlemi (concatitation işlemi)\n",
    "\n",
    "print(birinci + ikinci)"
   ]
  },
  {
   "cell_type": "code",
   "execution_count": 12,
   "id": "b1a62bd3-d38b-45c0-8cad-8383feb98d50",
   "metadata": {},
   "outputs": [
    {
     "name": "stdout",
     "output_type": "stream",
     "text": [
      "GüneşliGüneşliGüneşliGüneşli\n"
     ]
    }
   ],
   "source": [
    "# Metinlerde Çarpma İşlemi\n",
    "print(4 * birinci)"
   ]
  }
 ],
 "metadata": {
  "kernelspec": {
   "display_name": "Python 3 (ipykernel)",
   "language": "python",
   "name": "python3"
  },
  "language_info": {
   "codemirror_mode": {
    "name": "ipython",
    "version": 3
   },
   "file_extension": ".py",
   "mimetype": "text/x-python",
   "name": "python",
   "nbconvert_exporter": "python",
   "pygments_lexer": "ipython3",
   "version": "3.9.13"
  }
 },
 "nbformat": 4,
 "nbformat_minor": 5
}
