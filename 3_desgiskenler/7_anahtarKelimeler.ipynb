{
 "cells": [
  {
   "cell_type": "markdown",
   "id": "1b49e387-47db-4a48-a3ee-20de61d31728",
   "metadata": {},
   "source": [
    "## Anahtar Kelimeler (Keywords)"
   ]
  },
  {
   "cell_type": "markdown",
   "id": "50caf201-3f8a-4b30-b195-a400d31339da",
   "metadata": {},
   "source": [
    "Python'daki Anahtar Kelimeler (Keyword) **keyword** paketi içinde yer alır."
   ]
  },
  {
   "cell_type": "markdown",
   "id": "13b27ccc-782f-44e9-9aec-e06c587f34c5",
   "metadata": {},
   "source": [
    "**import**"
   ]
  },
  {
   "cell_type": "code",
   "execution_count": 1,
   "id": "b2b9075b-5e5f-49b1-be01-36b3fec994d1",
   "metadata": {},
   "outputs": [],
   "source": [
    "# Önce paketimizi import (içeri almak) edelim.\n",
    "\n",
    "import keyword"
   ]
  },
  {
   "cell_type": "code",
   "execution_count": 4,
   "id": "0bce9c82-5ce2-48c2-8743-af922f413206",
   "metadata": {},
   "outputs": [
    {
     "name": "stdout",
     "output_type": "stream",
     "text": [
      "['False', 'None', 'True', '__peg_parser__', 'and', 'as', 'assert', 'async', 'await', 'break', 'class', 'continue', 'def', 'del', 'elif', 'else', 'except', 'finally', 'for', 'from', 'global', 'if', 'import', 'in', 'is', 'lambda', 'nonlocal', 'not', 'or', 'pass', 'raise', 'return', 'try', 'while', 'with', 'yield']\n"
     ]
    }
   ],
   "source": [
    "# Şimdi keyword listesini alalım.\n",
    "# Bu listeyi bir değişkene atayalım.\n",
    "\n",
    "anahtarKelimeler = keyword.kwlist\n",
    "\n",
    "# Şimdi bu listeyi yazdır.\n",
    "print(anahtarKelimeler)"
   ]
  },
  {
   "cell_type": "markdown",
   "id": "05e817d1-1a9c-4fc9-9388-c4a41c7095e6",
   "metadata": {},
   "source": [
    "Peki herhangi bir kelime, Python için bir keyword müdür?"
   ]
  },
  {
   "cell_type": "code",
   "execution_count": 5,
   "id": "ef88f104-7e30-4520-a9d0-8a8ea761653c",
   "metadata": {},
   "outputs": [
    {
     "data": {
      "text/plain": [
       "True"
      ]
     },
     "execution_count": 5,
     "metadata": {},
     "output_type": "execute_result"
    }
   ],
   "source": [
    "# Bunun için keyword paketi içindeki -> iskeyword() metodunu kullanacağız.\n",
    "\n",
    "keyword.iskeyword(\"not\")"
   ]
  },
  {
   "cell_type": "code",
   "execution_count": 6,
   "id": "272ec544-4d73-43aa-9170-99a108368ed2",
   "metadata": {},
   "outputs": [
    {
     "data": {
      "text/plain": [
       "False"
      ]
     },
     "execution_count": 6,
     "metadata": {},
     "output_type": "execute_result"
    }
   ],
   "source": [
    "keyword.iskeyword(\"kelime\")"
   ]
  }
 ],
 "metadata": {
  "kernelspec": {
   "display_name": "Python 3 (ipykernel)",
   "language": "python",
   "name": "python3"
  },
  "language_info": {
   "codemirror_mode": {
    "name": "ipython",
    "version": 3
   },
   "file_extension": ".py",
   "mimetype": "text/x-python",
   "name": "python",
   "nbconvert_exporter": "python",
   "pygments_lexer": "ipython3",
   "version": "3.9.13"
  }
 },
 "nbformat": 4,
 "nbformat_minor": 5
}
