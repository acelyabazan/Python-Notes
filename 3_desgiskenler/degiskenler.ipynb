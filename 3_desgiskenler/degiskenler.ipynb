{
 "cells": [
  {
   "cell_type": "markdown",
   "id": "367f2704-91a3-40f8-88dc-5f1c3de77c8a",
   "metadata": {},
   "source": [
    "## Değişkenler"
   ]
  },
  {
   "cell_type": "markdown",
   "id": "e995d218-913f-400d-87cf-130e3184c2fa",
   "metadata": {},
   "source": [
    "### **Değiken:** Bir atıftır."
   ]
  },
  {
   "cell_type": "markdown",
   "id": "4ed5967b-1ec8-427c-a06e-08698013dfab",
   "metadata": {},
   "source": [
    "**Değişken:** Bir **değere** atıfta bulunan bir isimdir.\n",
    "\n",
    "Bilgisayarın hafızasında, o değere ait adresin ismidir. (Adress Numarası)\n",
    "\n",
    "**Atama (assigment):** İşlemi, yeni bir değişken yaratır, ve ona bir değer atar."
   ]
  },
  {
   "cell_type": "code",
   "execution_count": 2,
   "id": "4874860e-38f2-4d8b-a942-9d2823084ea9",
   "metadata": {},
   "outputs": [
    {
     "name": "stdout",
     "output_type": "stream",
     "text": [
      "12\n"
     ]
    }
   ],
   "source": [
    "a = 12\n",
    "print(a)"
   ]
  },
  {
   "cell_type": "code",
   "execution_count": 4,
   "id": "4500b84e-94a1-4ebf-8609-9628dcea2c87",
   "metadata": {},
   "outputs": [
    {
     "name": "stdout",
     "output_type": "stream",
     "text": [
      "Python adı, Monthy Python ve Kutsal Kase dizisinden gelir.\n"
     ]
    }
   ],
   "source": [
    "bilgi = \"Python adı, Monthy Python ve Kutsal Kase dizisinden gelir.\"\n",
    "print(bilgi)"
   ]
  },
  {
   "cell_type": "code",
   "execution_count": 5,
   "id": "b2bd3bd5-bc9f-4e07-a3df-cbe27e9888ca",
   "metadata": {},
   "outputs": [
    {
     "name": "stdout",
     "output_type": "stream",
     "text": [
      "3.1415\n"
     ]
    }
   ],
   "source": [
    "pi = 3.1415\n",
    "print(pi)"
   ]
  }
 ],
 "metadata": {
  "kernelspec": {
   "display_name": "Python 3 (ipykernel)",
   "language": "python",
   "name": "python3"
  },
  "language_info": {
   "codemirror_mode": {
    "name": "ipython",
    "version": 3
   },
   "file_extension": ".py",
   "mimetype": "text/x-python",
   "name": "python",
   "nbconvert_exporter": "python",
   "pygments_lexer": "ipython3",
   "version": "3.10.8"
  }
 },
 "nbformat": 4,
 "nbformat_minor": 5
}
