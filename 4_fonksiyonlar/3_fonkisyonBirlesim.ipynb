{
 "cells": [
  {
   "cell_type": "markdown",
   "metadata": {},
   "source": [
    "## Fonksiyonların Birleşimi"
   ]
  },
  {
   "cell_type": "markdown",
   "metadata": {},
   "source": [
    "math.sin() fonksiyonunu tek adımda kullanmak istersek."
   ]
  },
  {
   "cell_type": "code",
   "execution_count": 2,
   "metadata": {},
   "outputs": [
    {
     "name": "stdout",
     "output_type": "stream",
     "text": [
      "0.49999999999999994\n"
     ]
    }
   ],
   "source": [
    "import math\n",
    "\n",
    "derece = 30\n",
    "sinus = math.sin(math.radians(derece))\n",
    "\n",
    "print(sinus)"
   ]
  },
  {
   "cell_type": "markdown",
   "metadata": {},
   "source": [
    "**Chain:** Fonksiyonları zincirlemek."
   ]
  },
  {
   "cell_type": "markdown",
   "metadata": {},
   "source": [
    "#### Fonksiyon Tanımlamak"
   ]
  },
  {
   "cell_type": "markdown",
   "metadata": {},
   "source": [
    "**tanımlamak: definition**"
   ]
  },
  {
   "cell_type": "code",
   "execution_count": 5,
   "metadata": {},
   "outputs": [
    {
     "name": "stdout",
     "output_type": "stream",
     "text": [
      "İlk Fonksiyon\n"
     ]
    }
   ],
   "source": [
    "# Parametresiz fonksiyon tanımlamak\n",
    "\n",
    "def fonksiyon_adi():\n",
    "    print(\"İlk Fonksiyon\")\n",
    "    \n",
    "# fonksiyonu çağırmak\n",
    "fonksiyon_adi()"
   ]
  },
  {
   "cell_type": "markdown",
   "metadata": {},
   "source": [
    "**indent:** Python'da indent yapısı ile kod bölümlendirilir.\n",
    "\n",
    "* indent: tab\n",
    "* indent: 4 space"
   ]
  },
  {
   "cell_type": "code",
   "execution_count": 7,
   "metadata": {},
   "outputs": [
    {
     "name": "stdout",
     "output_type": "stream",
     "text": [
      "Adı: John Doe\n",
      "Yaşı: 24\n",
      "Dili: Python\n"
     ]
    }
   ],
   "source": [
    "# Öğrenci bilgileri tekrar lazım olsa\n",
    "\n",
    "print(\"Adı: John Doe\")\n",
    "print(\"Yaşı: 24\")\n",
    "print(\"Dili: Python\")"
   ]
  },
  {
   "cell_type": "code",
   "execution_count": 12,
   "metadata": {},
   "outputs": [
    {
     "name": "stdout",
     "output_type": "stream",
     "text": [
      "Adı: John Doe\n",
      "Yaşı: 24\n",
      "Dili: Python\n"
     ]
    }
   ],
   "source": [
    "# Parametresiz fonksiyon tanımla\n",
    "\n",
    "def ogrenci_adi():\n",
    "    print(\"Adı: John Doe\")\n",
    "    \n",
    "def ogrenci_yasi():\n",
    "    print(\"Yaşı: 24\")\n",
    "    \n",
    "def ogrenci_dili():\n",
    "    print(\"Dili: Python\")\n",
    "    \n",
    "ogrenci_adi()\n",
    "ogrenci_yasi()\n",
    "ogrenci_dili()"
   ]
  },
  {
   "cell_type": "code",
   "execution_count": 13,
   "metadata": {},
   "outputs": [
    {
     "name": "stdout",
     "output_type": "stream",
     "text": [
      "Adı: John Doe\n",
      "Yaşı: 24\n",
      "Dili: Python\n"
     ]
    }
   ],
   "source": [
    "def ogrenci_bilgileri():\n",
    "    ogrenci_adi()\n",
    "    ogrenci_yasi()\n",
    "    ogrenci_dili()\n",
    "    \n",
    "ogrenci_bilgileri()"
   ]
  },
  {
   "cell_type": "code",
   "execution_count": 14,
   "metadata": {},
   "outputs": [
    {
     "data": {
      "text/plain": [
       "function"
      ]
     },
     "execution_count": 14,
     "metadata": {},
     "output_type": "execute_result"
    }
   ],
   "source": [
    "type(ogrenci_bilgileri)"
   ]
  },
  {
   "cell_type": "code",
   "execution_count": 15,
   "metadata": {},
   "outputs": [
    {
     "name": "stdout",
     "output_type": "stream",
     "text": [
      "<function ogrenci_bilgileri at 0x7fbe637a8940>\n"
     ]
    }
   ],
   "source": [
    "print(ogrenci_bilgileri)"
   ]
  },
  {
   "cell_type": "markdown",
   "metadata": {},
   "source": [
    "Peki, öğrencinin adını ve soyadını ayrı ayrı yazmak istesek:\n",
    "\n",
    "\"Adı\": \"Peter\"\n",
    "\n",
    "\"Soyadı\": \"Parker\""
   ]
  },
  {
   "cell_type": "markdown",
   "metadata": {},
   "source": [
    "O zaman ogrenci_adi() fonksiyonunu iki alt fonksiyona bölmemiz lazım."
   ]
  },
  {
   "cell_type": "code",
   "execution_count": 18,
   "metadata": {},
   "outputs": [
    {
     "name": "stdout",
     "output_type": "stream",
     "text": [
      "Adı: Peter\n",
      "Soyad: Parker\n"
     ]
    }
   ],
   "source": [
    "# Öğrencinin ilk adını ve soyadını veren iki ayrı fonksiyon yazalım.\n",
    "\n",
    "def ogrenci_adi():\n",
    "    print(\"Adı: Peter\")\n",
    "    \n",
    "def ogrenci_soyadi():\n",
    "    print(\"Soyad: Parker\")\n",
    "    \n",
    "# Şimdi öğrenci adı fonksiyonunu iki alt fonksiyonun birleşimi olarak yazalım.    \n",
    "\n",
    "def ogrenci_adSoyad():\n",
    "    ogrenci_adi()\n",
    "    ogrenci_soyadi()\n",
    "    \n",
    "ogrenci_adSoyad()"
   ]
  },
  {
   "cell_type": "markdown",
   "metadata": {},
   "source": [
    "**İşleme Sırası (execution Flow):** Python kodu, ilk satırdan itibaren çalıştırmaya başlar.\n",
    "\n",
    "Ve aşağı doğru iner.\n",
    "\n",
    "Eğer bir fonksiyon çağrılmasına denk gelirse,\n",
    "\n",
    "Önce gider, o fonksiyonu çalıştırır, bitmesini bekler, geri döner.\n",
    "\n",
    "Kaldığı yerden ağağı doğru çalışmaya devam eder. "
   ]
  }
 ],
 "metadata": {
  "kernelspec": {
   "display_name": "Python 3",
   "language": "python",
   "name": "python3"
  },
  "language_info": {
   "codemirror_mode": {
    "name": "ipython",
    "version": 3
   },
   "file_extension": ".py",
   "mimetype": "text/x-python",
   "name": "python",
   "nbconvert_exporter": "python",
   "pygments_lexer": "ipython3",
   "version": "3.8.5"
  }
 },
 "nbformat": 4,
 "nbformat_minor": 4
}
