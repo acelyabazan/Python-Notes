{
 "cells": [
  {
   "cell_type": "markdown",
   "metadata": {},
   "source": [
    "## Parametreler (Argümanlar)"
   ]
  },
  {
   "cell_type": "markdown",
   "metadata": {},
   "source": [
    "Çoğu zaman fonksiyonlar parametlere ihtiyaç duyarlar.\n",
    "\n",
    "**Parametre:** fonksiyon çalışması için kendine ileten girdilerdir.\n",
    "\n",
    "Parametreler, fonksiyon çağırılırken iletilir."
   ]
  },
  {
   "cell_type": "code",
   "execution_count": 2,
   "metadata": {},
   "outputs": [
    {
     "name": "stdout",
     "output_type": "stream",
     "text": [
      "16\n"
     ]
    }
   ],
   "source": [
    "# Diyelim ki kendisine iletilen sayının karesini alan bir fonksiyon yazmak istiyoruz.\n",
    "\n",
    "def karesiniYaz(sayi):\n",
    "    \n",
    "    # sayının karesini al\n",
    "    karesi = sayi ** 2\n",
    "    \n",
    "    # sayının karesini yaz\n",
    "    print(karesi)\n",
    "    \n",
    "    # şimdi bu fonksiyonu parametre ile çağıralım.\n",
    "    \n",
    "karesiniYaz(4)"
   ]
  },
  {
   "cell_type": "code",
   "execution_count": 3,
   "metadata": {},
   "outputs": [
    {
     "name": "stdout",
     "output_type": "stream",
     "text": [
      "81\n"
     ]
    }
   ],
   "source": [
    "karesiniYaz(9)"
   ]
  },
  {
   "cell_type": "code",
   "execution_count": 5,
   "metadata": {},
   "outputs": [
    {
     "name": "stdout",
     "output_type": "stream",
     "text": [
      "15\n"
     ]
    }
   ],
   "source": [
    "# Örnek\n",
    "\n",
    "# İki parametre alan bir fonksiyon tanımlayalım.\n",
    "# İki parametre kisaKenar, uzunKenar\n",
    "# Fonksiyon dikdörtgenin alanını hesaplasın.\n",
    "\n",
    "def dikdortgenAlan(kisaKenar, uzunKenar):\n",
    "    \n",
    "    # Alan Hesaplama\n",
    "    dikdortgenAlani = kisaKenar * uzunKenar\n",
    "    \n",
    "    # Bu alanı yazdır.\n",
    "    print(dikdortgenAlani)\n",
    "    \n",
    "    # Şimdi fonksiyonu, iki paramtere ile çağıralım.\n",
    "dikdortgenAlan(3, 5)"
   ]
  },
  {
   "cell_type": "code",
   "execution_count": 14,
   "metadata": {},
   "outputs": [
    {
     "name": "stdout",
     "output_type": "stream",
     "text": [
      "Adı: Açelya\n",
      "Soyadı: Bazan\n",
      "Yaşı: 18\n",
      "Yazılım Dili: Python\n"
     ]
    }
   ],
   "source": [
    "# Örnek:\n",
    "\n",
    "# Daha önce tanımladığımız öğrenci bilgileri fonksiyonunu bu sefer parametrik tanımlayalım.\n",
    "\n",
    "# Öğrenci Bilgileri:\n",
    "\n",
    "adi = \"Açelya\"\n",
    "soyadi = \"Bazan\"\n",
    "yasi = \"18\"\n",
    "dili = \"Python\"\n",
    "\n",
    "def ogrenciBilgileri(ad, soyad, yas, dil):\n",
    "    \n",
    "    # Öğrenci bilgilerini yazdırlaım:\n",
    "    print(\"Adı: \" + ad)\n",
    "    \n",
    "    print(\"Soyadı: \" + soyad)\n",
    "    \n",
    "    print(\"Yaşı: \" + yas)\n",
    "    \n",
    "    print(\"Yazılım Dili: \" + dil)\n",
    "\n",
    "# Parametrelerimizi çağıralım.\n",
    "ogrenciBilgileri(adi, soyadi, yasi, dili)"
   ]
  }
 ],
 "metadata": {
  "kernelspec": {
   "display_name": "Python 3",
   "language": "python",
   "name": "python3"
  },
  "language_info": {
   "codemirror_mode": {
    "name": "ipython",
    "version": 3
   },
   "file_extension": ".py",
   "mimetype": "text/x-python",
   "name": "python",
   "nbconvert_exporter": "python",
   "pygments_lexer": "ipython3",
   "version": "3.8.5"
  }
 },
 "nbformat": 4,
 "nbformat_minor": 4
}
