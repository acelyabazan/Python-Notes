{
 "cells": [
  {
   "cell_type": "markdown",
   "metadata": {},
   "source": [
    "## Scope (Yaşam Alanı)"
   ]
  },
  {
   "cell_type": "markdown",
   "metadata": {},
   "source": [
    "Python'da değişkenler tanımlandıkları alanda ve o alanın alt alanlarında geçerlidir.\n",
    "\n",
    "Buna **Scope (Yaşam Alanı)** denir.\n",
    "\n",
    "Python'da scope girinti (indent) ile tanımlanır."
   ]
  },
  {
   "cell_type": "code",
   "execution_count": 2,
   "metadata": {},
   "outputs": [
    {
     "name": "stdout",
     "output_type": "stream",
     "text": [
      "100\n"
     ]
    }
   ],
   "source": [
    "# Fonksiyon scope'u içinde bir değişken tanımlayalım.\n",
    "\n",
    "def scope():\n",
    "    scope_degiskeni = 100\n",
    "    print(scope_degiskeni)\n",
    "    \n",
    "scope()"
   ]
  },
  {
   "cell_type": "markdown",
   "metadata": {},
   "source": [
    "Değişkenin scope'unun dışında ona ulaşmaya çalışırsak Python Interpreter hata verir. -> NameError"
   ]
  },
  {
   "cell_type": "markdown",
   "metadata": {},
   "source": [
    "Ama daha üstte yani **global scope'ta** tanımlanmış bir değişkene erişebilirsiniz."
   ]
  },
  {
   "cell_type": "code",
   "execution_count": 3,
   "metadata": {},
   "outputs": [
    {
     "name": "stdout",
     "output_type": "stream",
     "text": [
      "48\n"
     ]
    }
   ],
   "source": [
    "kisa = 4\n",
    "uzun = 6\n",
    "\n",
    "# en tepede tanımlanmış kisa ve uzun değişkenlere tüm fonksiyonlar erişebilir.\n",
    "\n",
    "def cevre():\n",
    "    dikdortgenCevresi = 2 * (kisa * uzun)\n",
    "    \n",
    "    print(dikdortgenCevresi)\n",
    "    \n",
    "cevre()"
   ]
  },
  {
   "cell_type": "markdown",
   "metadata": {},
   "source": [
    "peki `global scope` içindeki bir değişkeni fonksiyon içinde değiştirebilir miyiz?"
   ]
  },
  {
   "cell_type": "code",
   "execution_count": 5,
   "metadata": {},
   "outputs": [
    {
     "name": "stdout",
     "output_type": "stream",
     "text": [
      "4\n"
     ]
    }
   ],
   "source": [
    "# Kısa değişkeninin mevcut halini görelim:\n",
    "print(kisa)"
   ]
  },
  {
   "cell_type": "code",
   "execution_count": 7,
   "metadata": {},
   "outputs": [
    {
     "name": "stdout",
     "output_type": "stream",
     "text": [
      "400\n"
     ]
    }
   ],
   "source": [
    "# global scope'u değiştirmeye çalışan fonksiyon:\n",
    "\n",
    "def globalDegiskenDegistir():\n",
    "    kisa = 400\n",
    "    print(kisa)\n",
    "    \n",
    "# Fonksiyonu çağır\n",
    "globalDegiskenDegistir()"
   ]
  },
  {
   "cell_type": "code",
   "execution_count": 9,
   "metadata": {},
   "outputs": [
    {
     "name": "stdout",
     "output_type": "stream",
     "text": [
      "4\n"
     ]
    }
   ],
   "source": [
    "# Fonksiyon çağırıldıktan sonra -> kisa değişkeni ne oldu?\n",
    "\n",
    "print(kisa)"
   ]
  },
  {
   "cell_type": "markdown",
   "metadata": {},
   "source": [
    "Fonksiyon içinde değiştirmemize rağmen, globaldeki değişkenin değiri değişmedi.\n",
    "\n",
    "Sebebi:\n",
    "\n",
    "Python, globaldeki \"kisa\" değişkenine dokunmadı.\n",
    "\n",
    "Siz, fonksiyon içinde \"kisa\" değişkenine atama yaptığımız anda, Python size yeni bir değişken tanımlar.\n",
    "\n",
    "Globaldeki değişkenin kopyasıdır. Bu kopya sadece fonksiyon scope'u içinde yaşar.\n",
    "\n",
    "Çözümü:\n",
    "\n",
    "Global Scope'taki değişkeni gerçekten değiştirmek istiyorsak:\n",
    "\n",
    "Değişken başına **global** anahtar kelimsei yazılır."
   ]
  },
  {
   "cell_type": "code",
   "execution_count": 10,
   "metadata": {},
   "outputs": [
    {
     "name": "stdout",
     "output_type": "stream",
     "text": [
      "400\n"
     ]
    }
   ],
   "source": [
    "# Fonksiyonu tekrar tanımlayalım:\n",
    "\n",
    "def globalDegiskenDegistir():\n",
    "    global kisa\n",
    "    kisa = 400\n",
    "    print(kisa)\n",
    "    \n",
    "globalDegiskenDegistir()"
   ]
  },
  {
   "cell_type": "code",
   "execution_count": 11,
   "metadata": {},
   "outputs": [
    {
     "name": "stdout",
     "output_type": "stream",
     "text": [
      "400\n"
     ]
    }
   ],
   "source": [
    "# Globaldeki kisa değişkenini tekrar gör:\n",
    "\n",
    "print(kisa)"
   ]
  }
 ],
 "metadata": {
  "kernelspec": {
   "display_name": "Python 3",
   "language": "python",
   "name": "python3"
  },
  "language_info": {
   "codemirror_mode": {
    "name": "ipython",
    "version": 3
   },
   "file_extension": ".py",
   "mimetype": "text/x-python",
   "name": "python",
   "nbconvert_exporter": "python",
   "pygments_lexer": "ipython3",
   "version": "3.8.5"
  }
 },
 "nbformat": 4,
 "nbformat_minor": 4
}
