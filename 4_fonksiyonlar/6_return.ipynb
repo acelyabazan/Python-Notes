{
 "cells": [
  {
   "cell_type": "markdown",
   "id": "b1a1437c-45a6-4305-afd2-36007e63b00c",
   "metadata": {},
   "source": [
    "## Fonksiyonun Değer Dönmesi (Return)"
   ]
  },
  {
   "cell_type": "markdown",
   "id": "18ec0d92-c413-475d-b572-954b36ac947c",
   "metadata": {},
   "source": [
    "Fonksiyonlar işlerini bitirdikten sonra geriye değer dönebilirler.\n",
    "\n",
    "Buna geriye değer **return** etmek denir.\n",
    "\n",
    "Ve **return** anahtar kelimesi ile sağlanır."
   ]
  },
  {
   "cell_type": "code",
   "execution_count": 5,
   "id": "a61f11af-0868-411a-9620-5887fc6b4bcf",
   "metadata": {},
   "outputs": [
    {
     "data": {
      "text/plain": [
       "125"
      ]
     },
     "execution_count": 5,
     "metadata": {},
     "output_type": "execute_result"
    }
   ],
   "source": [
    "# Kendisine parametre olarak verilen bir sayının küpünü hesaplayıp geri dönen fonksiyon yazalım.\n",
    "\n",
    "deger = 5\n",
    "\n",
    "def cube(sayi):\n",
    "    \n",
    "    # Sayının kübünü hesapla:\n",
    "    yeniSayi = sayi ** 3\n",
    "    \n",
    "    # Bu küp değerini geri dön:\n",
    "    return(yeniSayi)\n",
    "\n",
    "# Şimdi fonksiyonu çağırdığımız zaman, fonksiyon bize bir değer döner.\n",
    "# Bu küp değeri alıp bir değişkene atayabiliriz.\n",
    "cube(deger)    "
   ]
  },
  {
   "cell_type": "code",
   "execution_count": 7,
   "id": "b620fabc-9863-49cb-a24d-a92ec36092b0",
   "metadata": {},
   "outputs": [
    {
     "name": "stdout",
     "output_type": "stream",
     "text": [
      "64\n"
     ]
    }
   ],
   "source": [
    "n = 4\n",
    "\n",
    "dordunKupu = cube(4)\n",
    "print(dordunKupu)"
   ]
  },
  {
   "cell_type": "code",
   "execution_count": 8,
   "id": "05703ddb-28ee-4c03-b296-26ddc9402207",
   "metadata": {},
   "outputs": [
    {
     "name": "stdout",
     "output_type": "stream",
     "text": [
      "216\n"
     ]
    }
   ],
   "source": [
    "# Birleşim -> chain\n",
    "\n",
    "n = 6\n",
    "print(cube(n))"
   ]
  },
  {
   "cell_type": "markdown",
   "id": "2c26879d-0730-41e5-9412-beb17b00d3f7",
   "metadata": {},
   "source": [
    "Geriye değer dönmeyen fonksiyonlara **void** fonskiyonlar denir."
   ]
  }
 ],
 "metadata": {
  "kernelspec": {
   "display_name": "Python 3 (ipykernel)",
   "language": "python",
   "name": "python3"
  },
  "language_info": {
   "codemirror_mode": {
    "name": "ipython",
    "version": 3
   },
   "file_extension": ".py",
   "mimetype": "text/x-python",
   "name": "python",
   "nbconvert_exporter": "python",
   "pygments_lexer": "ipython3",
   "version": "3.9.13"
  }
 },
 "nbformat": 4,
 "nbformat_minor": 5
}
