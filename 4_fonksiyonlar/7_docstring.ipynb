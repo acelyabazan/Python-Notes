{
 "cells": [
  {
   "cell_type": "markdown",
   "id": "6a30c366-43e5-483b-9dcc-2f53672b33be",
   "metadata": {},
   "source": [
    "## Docstring - Fonksiyon Dokümantasyonu"
   ]
  },
  {
   "cell_type": "code",
   "execution_count": 2,
   "id": "48487f39-efc7-4e53-9405-bf73aafc8173",
   "metadata": {},
   "outputs": [
    {
     "data": {
      "text/plain": [
       "729"
      ]
     },
     "execution_count": 2,
     "metadata": {},
     "output_type": "execute_result"
    }
   ],
   "source": [
    "# Fonksiyon hakkında yardım alalım:\n",
    "\n",
    "rakam = 9\n",
    "\n",
    "def cube(sayi):\n",
    "    \n",
    "    yeniSayi = sayi ** 3\n",
    "    return(yeniSayi)\n",
    "\n",
    "cube(rakam)"
   ]
  },
  {
   "cell_type": "code",
   "execution_count": 6,
   "id": "b334700f-b04d-4892-b113-0474032f8e3a",
   "metadata": {},
   "outputs": [
    {
     "name": "stdout",
     "output_type": "stream",
     "text": [
      "Help on function cube in module __main__:\n",
      "\n",
      "cube(sayi)\n",
      "\n"
     ]
    }
   ],
   "source": [
    "# Yardım görmek için:\n",
    "\n",
    "help(cube)"
   ]
  },
  {
   "cell_type": "code",
   "execution_count": 7,
   "id": "7c5a06b8-32f8-4df2-a378-09ac253258b2",
   "metadata": {},
   "outputs": [
    {
     "data": {
      "text/plain": [
       "\u001b[0;31mSignature:\u001b[0m \u001b[0mcube\u001b[0m\u001b[0;34m(\u001b[0m\u001b[0msayi\u001b[0m\u001b[0;34m)\u001b[0m\u001b[0;34m\u001b[0m\u001b[0;34m\u001b[0m\u001b[0m\n",
       "\u001b[0;31mDocstring:\u001b[0m <no docstring>\n",
       "\u001b[0;31mFile:\u001b[0m      /var/folders/r7/__rm2d890k16nlpt6vj1zlbh0000gn/T/ipykernel_3308/1473788798.py\n",
       "\u001b[0;31mType:\u001b[0m      function\n"
      ]
     },
     "metadata": {},
     "output_type": "display_data"
    }
   ],
   "source": [
    "# Yardım görmek için -> biraz daha detaylı yardım:\n",
    "\n",
    "cube?"
   ]
  },
  {
   "cell_type": "code",
   "execution_count": 8,
   "id": "d10b6b80-3636-416e-9fef-700bf0ee7e67",
   "metadata": {},
   "outputs": [
    {
     "data": {
      "text/plain": [
       "\u001b[0;31mSignature:\u001b[0m \u001b[0mcube\u001b[0m\u001b[0;34m(\u001b[0m\u001b[0msayi\u001b[0m\u001b[0;34m)\u001b[0m\u001b[0;34m\u001b[0m\u001b[0;34m\u001b[0m\u001b[0m\n",
       "\u001b[0;31mDocstring:\u001b[0m <no docstring>\n",
       "\u001b[0;31mSource:\u001b[0m   \n",
       "\u001b[0;32mdef\u001b[0m \u001b[0mcube\u001b[0m\u001b[0;34m(\u001b[0m\u001b[0msayi\u001b[0m\u001b[0;34m)\u001b[0m\u001b[0;34m:\u001b[0m\u001b[0;34m\u001b[0m\n",
       "\u001b[0;34m\u001b[0m    \u001b[0;34m\u001b[0m\n",
       "\u001b[0;34m\u001b[0m    \u001b[0myeniSayi\u001b[0m \u001b[0;34m=\u001b[0m \u001b[0msayi\u001b[0m \u001b[0;34m**\u001b[0m \u001b[0;36m3\u001b[0m\u001b[0;34m\u001b[0m\n",
       "\u001b[0;34m\u001b[0m    \u001b[0;32mreturn\u001b[0m\u001b[0;34m(\u001b[0m\u001b[0myeniSayi\u001b[0m\u001b[0;34m)\u001b[0m\u001b[0;34m\u001b[0m\u001b[0;34m\u001b[0m\u001b[0m\n",
       "\u001b[0;31mFile:\u001b[0m      /var/folders/r7/__rm2d890k16nlpt6vj1zlbh0000gn/T/ipykernel_3308/1473788798.py\n",
       "\u001b[0;31mType:\u001b[0m      function\n"
      ]
     },
     "metadata": {},
     "output_type": "display_data"
    }
   ],
   "source": [
    "# Yardım görmek için -> En detaylısı:\n",
    "# Source kodu da gösterir:\n",
    "\n",
    "cube??"
   ]
  },
  {
   "cell_type": "code",
   "execution_count": 15,
   "id": "f6a4ffda-9cd7-4de8-86ad-01193bb36337",
   "metadata": {},
   "outputs": [
    {
     "data": {
      "text/plain": [
       "225"
      ]
     },
     "execution_count": 15,
     "metadata": {},
     "output_type": "execute_result"
    }
   ],
   "source": [
    "import math\n",
    "# Docstring'i olan bir fonksiyon yazalım:\n",
    "\n",
    "ustel = 2\n",
    "sayimiz = 15\n",
    "\n",
    "def ustelHesapla(sayi, usttu):\n",
    "    \n",
    "    \"\"\"\n",
    "    Bu fonksiyon üstel hesaplama yapar.\n",
    "    Parametreler: int sayi, int usttu\n",
    "    Sonuc: verilen sayinin, verilen üstünü döner.\n",
    "    \"\"\"\n",
    "    yeniSayi = math.pow(sayi, usttu)\n",
    "    \n",
    "    return(int(yeniSayi))\n",
    "ustelHesapla(sayimiz, ustel)"
   ]
  },
  {
   "cell_type": "code",
   "execution_count": 22,
   "id": "58568481-a861-4e59-917a-9915f9f445fd",
   "metadata": {},
   "outputs": [
    {
     "name": "stdout",
     "output_type": "stream",
     "text": [
      "Help on function ustelHesapla in module __main__:\n",
      "\n",
      "ustelHesapla(sayi, usttu)\n",
      "    Bu fonksiyon üstel hesaplama yapar.\n",
      "    Parametreler: int sayi, int usttu\n",
      "    Sonuc: verilen sayinin, verilen üstünü döner.\n",
      "\n"
     ]
    }
   ],
   "source": [
    "# Şimdi bu fonksiyon için yardım çağıralım\n",
    "\n",
    "help(ustelHesapla)"
   ]
  },
  {
   "cell_type": "code",
   "execution_count": 23,
   "id": "170abd24-b972-44af-ac37-637d62889bc9",
   "metadata": {},
   "outputs": [
    {
     "data": {
      "text/plain": [
       "\u001b[0;31mSignature:\u001b[0m \u001b[0mustelHesapla\u001b[0m\u001b[0;34m(\u001b[0m\u001b[0msayi\u001b[0m\u001b[0;34m,\u001b[0m \u001b[0musttu\u001b[0m\u001b[0;34m)\u001b[0m\u001b[0;34m\u001b[0m\u001b[0;34m\u001b[0m\u001b[0m\n",
       "\u001b[0;31mDocstring:\u001b[0m\n",
       "Bu fonksiyon üstel hesaplama yapar.\n",
       "Parametreler: int sayi, int usttu\n",
       "Sonuc: verilen sayinin, verilen üstünü döner.\n",
       "\u001b[0;31mFile:\u001b[0m      /var/folders/r7/__rm2d890k16nlpt6vj1zlbh0000gn/T/ipykernel_3308/4168999373.py\n",
       "\u001b[0;31mType:\u001b[0m      function\n"
      ]
     },
     "metadata": {},
     "output_type": "display_data"
    }
   ],
   "source": [
    "# Şimdi bu fonksiyon için yardım çağıralım\n",
    "\n",
    "ustelHesapla?"
   ]
  },
  {
   "cell_type": "code",
   "execution_count": 24,
   "id": "b91beea2-8e71-4c84-ada3-c17cb5f3267c",
   "metadata": {},
   "outputs": [
    {
     "data": {
      "text/plain": [
       "\u001b[0;31mSignature:\u001b[0m \u001b[0mustelHesapla\u001b[0m\u001b[0;34m(\u001b[0m\u001b[0msayi\u001b[0m\u001b[0;34m,\u001b[0m \u001b[0musttu\u001b[0m\u001b[0;34m)\u001b[0m\u001b[0;34m\u001b[0m\u001b[0;34m\u001b[0m\u001b[0m\n",
       "\u001b[0;31mSource:\u001b[0m   \n",
       "\u001b[0;32mdef\u001b[0m \u001b[0mustelHesapla\u001b[0m\u001b[0;34m(\u001b[0m\u001b[0msayi\u001b[0m\u001b[0;34m,\u001b[0m \u001b[0musttu\u001b[0m\u001b[0;34m)\u001b[0m\u001b[0;34m:\u001b[0m\u001b[0;34m\u001b[0m\n",
       "\u001b[0;34m\u001b[0m    \u001b[0;34m\u001b[0m\n",
       "\u001b[0;34m\u001b[0m    \u001b[0;34m\"\"\"\u001b[0m\n",
       "\u001b[0;34m    Bu fonksiyon üstel hesaplama yapar.\u001b[0m\n",
       "\u001b[0;34m    Parametreler: int sayi, int usttu\u001b[0m\n",
       "\u001b[0;34m    Sonuc: verilen sayinin, verilen üstünü döner.\u001b[0m\n",
       "\u001b[0;34m    \"\"\"\u001b[0m\u001b[0;34m\u001b[0m\n",
       "\u001b[0;34m\u001b[0m    \u001b[0myeniSayi\u001b[0m \u001b[0;34m=\u001b[0m \u001b[0mmath\u001b[0m\u001b[0;34m.\u001b[0m\u001b[0mpow\u001b[0m\u001b[0;34m(\u001b[0m\u001b[0msayi\u001b[0m\u001b[0;34m,\u001b[0m \u001b[0musttu\u001b[0m\u001b[0;34m)\u001b[0m\u001b[0;34m\u001b[0m\n",
       "\u001b[0;34m\u001b[0m    \u001b[0;34m\u001b[0m\n",
       "\u001b[0;34m\u001b[0m    \u001b[0;32mreturn\u001b[0m\u001b[0;34m(\u001b[0m\u001b[0mint\u001b[0m\u001b[0;34m(\u001b[0m\u001b[0myeniSayi\u001b[0m\u001b[0;34m)\u001b[0m\u001b[0;34m)\u001b[0m\u001b[0;34m\u001b[0m\u001b[0;34m\u001b[0m\u001b[0m\n",
       "\u001b[0;31mFile:\u001b[0m      /var/folders/r7/__rm2d890k16nlpt6vj1zlbh0000gn/T/ipykernel_3308/4168999373.py\n",
       "\u001b[0;31mType:\u001b[0m      function\n"
      ]
     },
     "metadata": {},
     "output_type": "display_data"
    }
   ],
   "source": [
    "# Şimdi bu fonksiyon için yardım çağıralım\n",
    "\n",
    "ustelHesapla??"
   ]
  },
  {
   "cell_type": "code",
   "execution_count": 25,
   "id": "d86eb22e-e61e-4eef-a991-ed0d86941d07",
   "metadata": {},
   "outputs": [
    {
     "data": {
      "text/plain": [
       "\u001b[0;31mSignature:\u001b[0m \u001b[0mmath\u001b[0m\u001b[0;34m.\u001b[0m\u001b[0mpow\u001b[0m\u001b[0;34m(\u001b[0m\u001b[0mx\u001b[0m\u001b[0;34m,\u001b[0m \u001b[0my\u001b[0m\u001b[0;34m,\u001b[0m \u001b[0;34m/\u001b[0m\u001b[0;34m)\u001b[0m\u001b[0;34m\u001b[0m\u001b[0;34m\u001b[0m\u001b[0m\n",
       "\u001b[0;31mDocstring:\u001b[0m Return x**y (x to the power of y).\n",
       "\u001b[0;31mType:\u001b[0m      builtin_function_or_method\n"
      ]
     },
     "metadata": {},
     "output_type": "display_data"
    }
   ],
   "source": [
    "# math.pow() için dokümantasyon görelim:\n",
    "\n",
    "math.pow?"
   ]
  },
  {
   "cell_type": "markdown",
   "id": "ec074a0d-4885-4c87-8e1b-21aeb4c7cbc6",
   "metadata": {},
   "source": [
    "**Hazır Metod ve Attribute'lar:**\n",
    "\n",
    "Python'da nesnelerin hazır metodları ve hazır attribute'ları (özellikleri) vardır.\n",
    "\n",
    "Bunlara, kısa yoldan erişilebilir."
   ]
  },
  {
   "cell_type": "code",
   "execution_count": 27,
   "id": "61174acc-479c-420b-8b10-b7ec0e313277",
   "metadata": {},
   "outputs": [
    {
     "name": "stdout",
     "output_type": "stream",
     "text": [
      "\n",
      "    Bu fonksiyon üstel hesaplama yapar.\n",
      "    Parametreler: int sayi, int usttu\n",
      "    Sonuc: verilen sayinin, verilen üstünü döner.\n",
      "    \n"
     ]
    }
   ],
   "source": [
    "# Docstring için -> __doc__\n",
    "\n",
    "print(ustelHesapla.__doc__)"
   ]
  },
  {
   "cell_type": "markdown",
   "id": "3223643e-da59-4c17-9402-e44646c56bed",
   "metadata": {},
   "source": [
    "Python'da built-in (hazır) olan iki alt tire (__) ile erişilen metod veya attribute'lara (özelliklere):\n",
    "\n",
    "**dunder** adı verilir.\n",
    "\n",
    "`dunder: double underscore`"
   ]
  },
  {
   "cell_type": "code",
   "execution_count": 28,
   "id": "e77c60f4-bd3b-4c2b-b363-af2259fa3feb",
   "metadata": {},
   "outputs": [
    {
     "name": "stdout",
     "output_type": "stream",
     "text": [
      "Return x**y (x to the power of y).\n"
     ]
    }
   ],
   "source": [
    "print(math.pow.__doc__)"
   ]
  },
  {
   "cell_type": "code",
   "execution_count": 29,
   "id": "464074c1-9ed9-4b3f-8a06-d9019b2f2089",
   "metadata": {},
   "outputs": [
    {
     "name": "stdout",
     "output_type": "stream",
     "text": [
      "__main__\n"
     ]
    }
   ],
   "source": [
    "# Yarattığımız ustelHesapla fonksiyonu için hangi modulde olduğunu görmek için:\n",
    "\n",
    "print(ustelHesapla.__module__)"
   ]
  },
  {
   "cell_type": "markdown",
   "id": "f51dcc98-2098-49df-b2e3-40d779c8419a",
   "metadata": {},
   "source": [
    "**main** modulü, bizim şu anda içinde çalıştığımız modüldür."
   ]
  },
  {
   "cell_type": "code",
   "execution_count": 30,
   "id": "b799ed68-88b5-4b20-a247-5c65ea109d86",
   "metadata": {},
   "outputs": [
    {
     "name": "stdout",
     "output_type": "stream",
     "text": [
      "ustelHesapla\n"
     ]
    }
   ],
   "source": [
    "print(ustelHesapla.__name__)"
   ]
  }
 ],
 "metadata": {
  "kernelspec": {
   "display_name": "Python 3 (ipykernel)",
   "language": "python",
   "name": "python3"
  },
  "language_info": {
   "codemirror_mode": {
    "name": "ipython",
    "version": 3
   },
   "file_extension": ".py",
   "mimetype": "text/x-python",
   "name": "python",
   "nbconvert_exporter": "python",
   "pygments_lexer": "ipython3",
   "version": "3.9.13"
  }
 },
 "nbformat": 4,
 "nbformat_minor": 5
}
