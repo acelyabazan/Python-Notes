{
 "cells": [
  {
   "cell_type": "markdown",
   "id": "intelligent-banana",
   "metadata": {},
   "source": [
    "## [10 Soru] QUIZ - Fonksiyonlar I"
   ]
  },
  {
   "cell_type": "markdown",
   "id": "roman-eclipse",
   "metadata": {},
   "source": [
    "**Soru 1:**\n",
    "\n",
    "Ekrana \"Selam Dünya!\" yazan bir fonksiyon yazın."
   ]
  },
  {
   "cell_type": "code",
   "execution_count": 3,
   "id": "prompt-dictionary",
   "metadata": {},
   "outputs": [
    {
     "data": {
      "text/plain": [
       "'Selam Dünya!'"
      ]
     },
     "execution_count": 3,
     "metadata": {},
     "output_type": "execute_result"
    }
   ],
   "source": [
    "# Çözüm 1:\n",
    "\n",
    "world = \"Selam Dünya!\"\n",
    "\n",
    "def helloWorld(hello):\n",
    "    \n",
    "    return(hello)\n",
    "\n",
    "helloWorld(world)"
   ]
  },
  {
   "cell_type": "markdown",
   "id": "prompt-african",
   "metadata": {},
   "source": [
    "---"
   ]
  },
  {
   "cell_type": "markdown",
   "id": "angry-instrumentation",
   "metadata": {},
   "source": [
    "**Soru 2:**\n",
    "\n",
    "String şeklinde iki parametre alan bir fonksiyon yazın. Bu parametreleri kişi ismi kabul edelim. <br>\n",
    "Fonksiyon bu iki ismi \"ve\" ile bağlayarak selamlasın. <br>\n",
    "Ör: Selam Clark Kent ve Superman. <br>\n",
    "(String'in format fonksiyonu kullanın.)"
   ]
  },
  {
   "cell_type": "code",
   "execution_count": 7,
   "id": "popular-killer",
   "metadata": {},
   "outputs": [
    {
     "data": {
      "text/plain": [
       "'Selam Clark Kent ve Superman.'"
      ]
     },
     "execution_count": 7,
     "metadata": {},
     "output_type": "execute_result"
    }
   ],
   "source": [
    "# Çözüm 2:\n",
    "\n",
    "isim = \"Clark Kent\"\n",
    "ikinciAd = \"Superman\"\n",
    "\n",
    "def bilgi(ad, ikiAd):\n",
    "    \n",
    "    return(\"Selam \" + ad + \" \" + \"ve \" + ikiAd + \".\")\n",
    "\n",
    "bilgi(isim, ikinciAd)"
   ]
  },
  {
   "cell_type": "markdown",
   "id": "growing-blogger",
   "metadata": {},
   "source": [
    "---"
   ]
  },
  {
   "cell_type": "markdown",
   "id": "working-algebra",
   "metadata": {},
   "source": [
    "**Soru 3:**\n",
    "\n",
    "Kullanıcıdan girdi olarak ismini isteyen bir fonksiyon yazın. <br>\n",
    "Bu fonksiyon aldığı ismi \"Selam sana ....\" şeklinde selamlasın. <br>\n",
    "(Girdi almak için input() fonksiyonunu kullanın.)"
   ]
  },
  {
   "cell_type": "code",
   "execution_count": 9,
   "id": "demographic-luxury",
   "metadata": {},
   "outputs": [
    {
     "name": "stdin",
     "output_type": "stream",
     "text": [
      "Lütfen ismini söyler misin?:  Python\n"
     ]
    },
    {
     "data": {
      "text/plain": [
       "'Selam sana Python'"
      ]
     },
     "execution_count": 9,
     "metadata": {},
     "output_type": "execute_result"
    }
   ],
   "source": [
    "# Çözüm 3:\n",
    "\n",
    "kullaniciAdi = str(input(\"Lütfen ismini söyler misin?: \"))\n",
    "\n",
    "def kullaniciSelamla(isim):\n",
    "    \n",
    "    return(\"Selam sana \" + isim)\n",
    "kullaniciSelamla(kullaniciAdi)"
   ]
  },
  {
   "cell_type": "markdown",
   "id": "annual-positive",
   "metadata": {},
   "source": [
    "---"
   ]
  },
  {
   "cell_type": "markdown",
   "id": "equivalent-spice",
   "metadata": {},
   "source": [
    "**Soru 4:**\n",
    "\n",
    "Parametre olarak 3 sayı alan bir fonksiyon yazın. <br>\n",
    "Fonksiyon bu sayılardan en büyüğünü size geri dönsün. <br>\n",
    "Bu fonksiyonun docstring'ini de yazın. "
   ]
  },
  {
   "cell_type": "code",
   "execution_count": 12,
   "id": "cleared-current",
   "metadata": {},
   "outputs": [
    {
     "data": {
      "text/plain": [
       "\u001b[0;31mSignature:\u001b[0m \u001b[0menBuyuk\u001b[0m\u001b[0;34m(\u001b[0m\u001b[0msayi1\u001b[0m\u001b[0;34m,\u001b[0m \u001b[0msayi2\u001b[0m\u001b[0;34m,\u001b[0m \u001b[0msayi3\u001b[0m\u001b[0;34m)\u001b[0m\u001b[0;34m\u001b[0m\u001b[0;34m\u001b[0m\u001b[0m\n",
       "\u001b[0;31mSource:\u001b[0m   \n",
       "\u001b[0;32mdef\u001b[0m \u001b[0menBuyuk\u001b[0m\u001b[0;34m(\u001b[0m\u001b[0msayi1\u001b[0m\u001b[0;34m,\u001b[0m \u001b[0msayi2\u001b[0m\u001b[0;34m,\u001b[0m \u001b[0msayi3\u001b[0m\u001b[0;34m)\u001b[0m\u001b[0;34m:\u001b[0m\u001b[0;34m\u001b[0m\n",
       "\u001b[0;34m\u001b[0m    \u001b[0;34m\"\"\"\u001b[0m\n",
       "\u001b[0;34m        Bu fonksiyon 3 sayı alır ve en büyüğünü (max) döner.\u001b[0m\n",
       "\u001b[0;34m        Parametreler: int sayi1, sayi2, sayi3\u001b[0m\n",
       "\u001b[0;34m        Sonuc: Python'un max fonksiyonun verdiği değeri döner.\u001b[0m\n",
       "\u001b[0;34m    \"\"\"\u001b[0m\u001b[0;34m\u001b[0m\n",
       "\u001b[0;34m\u001b[0m    \u001b[0menBuyukSayi\u001b[0m \u001b[0;34m=\u001b[0m \u001b[0mmax\u001b[0m\u001b[0;34m(\u001b[0m\u001b[0msayi1\u001b[0m\u001b[0;34m,\u001b[0m \u001b[0msayi2\u001b[0m\u001b[0;34m,\u001b[0m \u001b[0msayi3\u001b[0m\u001b[0;34m)\u001b[0m\u001b[0;34m\u001b[0m\n",
       "\u001b[0;34m\u001b[0m    \u001b[0;34m\u001b[0m\n",
       "\u001b[0;34m\u001b[0m    \u001b[0;32mreturn\u001b[0m\u001b[0;34m(\u001b[0m\u001b[0menBuyukSayi\u001b[0m\u001b[0;34m)\u001b[0m\u001b[0;34m\u001b[0m\u001b[0;34m\u001b[0m\u001b[0m\n",
       "\u001b[0;31mFile:\u001b[0m      /var/folders/r7/__rm2d890k16nlpt6vj1zlbh0000gn/T/ipykernel_4358/3101236909.py\n",
       "\u001b[0;31mType:\u001b[0m      function\n"
      ]
     },
     "metadata": {},
     "output_type": "display_data"
    }
   ],
   "source": [
    "# Çözüm 4:\n",
    "\n",
    "a = 1\n",
    "b = 82\n",
    "c = 22\n",
    "\n",
    "def enBuyuk(sayi1, sayi2, sayi3):\n",
    "    \"\"\"\n",
    "        Bu fonksiyon 3 sayı alır ve en büyüğünü (max) döner.\n",
    "        Parametreler: int sayi1, sayi2, sayi3\n",
    "        Sonuc: Python'un max fonksiyonun verdiği değeri döner.\n",
    "    \"\"\"\n",
    "    enBuyukSayi = max(sayi1, sayi2, sayi3)\n",
    "    \n",
    "    return(enBuyukSayi)\n",
    "\n",
    "enBuyuk(a, b, c)\n",
    "\n",
    "enBuyuk??"
   ]
  },
  {
   "cell_type": "markdown",
   "id": "disturbed-bathroom",
   "metadata": {},
   "source": [
    "---"
   ]
  },
  {
   "cell_type": "markdown",
   "id": "conceptual-parts",
   "metadata": {},
   "source": [
    "**Soru 5:**\n",
    "\n",
    "Parametre olarak gelen metni parçalayan küçük harfe çeviren bir fonksiyon yazın. <br>\n",
    " * parçalamak için: strip()\n",
    " * küçük harf yapmak için: lower()"
   ]
  },
  {
   "cell_type": "code",
   "execution_count": 47,
   "id": "bronze-moscow",
   "metadata": {},
   "outputs": [
    {
     "name": "stdout",
     "output_type": "stream",
     "text": [
      "Çirkin Metin: MerHaba DünYA\n"
     ]
    },
    {
     "data": {
      "text/plain": [
       "'Güzel Metin: merhaba dünya'"
      ]
     },
     "execution_count": 47,
     "metadata": {},
     "output_type": "execute_result"
    }
   ],
   "source": [
    "# Çözüm 5:\n",
    "\n",
    "metin = \"MerHaba DünYA\"\n",
    "\n",
    "def yeniMetin(merhaba):\n",
    "    \n",
    "    print(\"Çirkin Metin: \" + metin)\n",
    "    \n",
    "    a = merhaba.strip(merhaba)\n",
    "    b = merhaba.lower()\n",
    "    \n",
    "    \n",
    "    return(\"Güzel Metin: \" + b)\n",
    "    \n",
    "yeniMetin(metin)"
   ]
  },
  {
   "cell_type": "markdown",
   "id": "fossil-current",
   "metadata": {},
   "source": [
    "---"
   ]
  },
  {
   "cell_type": "markdown",
   "id": "focal-suggestion",
   "metadata": {},
   "source": [
    "**Soru 6:**\n",
    "\n",
    "Parametre olarak gelen iki sayının toplamını dönen bir fonksiyon yazın."
   ]
  },
  {
   "cell_type": "code",
   "execution_count": 48,
   "id": "equivalent-commission",
   "metadata": {},
   "outputs": [
    {
     "data": {
      "text/plain": [
       "15"
      ]
     },
     "execution_count": 48,
     "metadata": {},
     "output_type": "execute_result"
    }
   ],
   "source": [
    "# Çözüm 6:\n",
    "\n",
    "a = 10\n",
    "b = 5\n",
    "\n",
    "def toplam(c, d):\n",
    "    sayi = c + d\n",
    "    \n",
    "    return(sayi)\n",
    "\n",
    "toplam(a, b)"
   ]
  },
  {
   "cell_type": "markdown",
   "id": "forced-boating",
   "metadata": {},
   "source": [
    "---"
   ]
  },
  {
   "cell_type": "markdown",
   "id": "peaceful-board",
   "metadata": {},
   "source": [
    "**Soru 7:**\n",
    "\n",
    "Parametre olarak gelen 3 sayı alan bir fonksiyon yazın. <br>\n",
    "Fonksiyon bu sayıların ikili farklarını alsın ve bu farklardan en küçüğünü dönsün. <br>\n",
    "* Fark için mutlak değeri kullanın -> abs  (absolute value)\n",
    "* Minimum için -> min"
   ]
  },
  {
   "cell_type": "code",
   "execution_count": 60,
   "id": "bibliographic-queen",
   "metadata": {},
   "outputs": [
    {
     "name": "stdout",
     "output_type": "stream",
     "text": [
      "1\n",
      "1\n",
      "2\n",
      "En Küçük Sonuç: 1\n"
     ]
    }
   ],
   "source": [
    "# Çözüm 7:\n",
    "\n",
    "a = 10\n",
    "b = 9\n",
    "c = 8\n",
    "\n",
    "def sayilar(sayi1, sayi2, sayi3):\n",
    "    \n",
    "    yeni1 = abs(sayi1)\n",
    "    yeni2 = abs(sayi2)\n",
    "    yeni3 = abs(sayi3)\n",
    "    \n",
    "    cikarmaIslemi = yeni1 - yeni2\n",
    "    print(cikarmaIslemi)\n",
    "    \n",
    "    cikarmaIslemi2 = yeni2 - yeni3\n",
    "    print(cikarmaIslemi2)\n",
    "    \n",
    "    cikarmaIslemi3 = yeni1 - yeni3\n",
    "    print(cikarmaIslemi3)\n",
    "    \n",
    "    d = min(cikarmaIslemi, cikarmaIslemi2, cikarmaIslemi3)\n",
    "    \n",
    "    print(\"En Küçük Sonuç: \" + str(d))\n",
    "\n",
    "sayilar(a, b, c)"
   ]
  },
  {
   "cell_type": "markdown",
   "id": "romance-blink",
   "metadata": {},
   "source": [
    "---"
   ]
  },
  {
   "cell_type": "markdown",
   "id": "earned-scenario",
   "metadata": {},
   "source": [
    "**Soru 8:**\n",
    "\n",
    "Parametre olarak bir sayı alan bir fonksiyon yazın. <br>\n",
    "Fonksiyon bu sayının karekökünü dönsün. <br>\n",
    "* Karekök için -> math.sqrt()"
   ]
  },
  {
   "cell_type": "code",
   "execution_count": 63,
   "id": "unauthorized-immunology",
   "metadata": {},
   "outputs": [
    {
     "data": {
      "text/plain": [
       "2.0"
      ]
     },
     "execution_count": 63,
     "metadata": {},
     "output_type": "execute_result"
    }
   ],
   "source": [
    "# Çözüm 8:\n",
    "import math\n",
    "\n",
    "sayi = 4\n",
    "\n",
    "def karekok(number):\n",
    "    \n",
    "    return(math.sqrt(number))\n",
    "\n",
    "karekok(sayi)"
   ]
  },
  {
   "cell_type": "markdown",
   "id": "monetary-drill",
   "metadata": {},
   "source": [
    "---"
   ]
  },
  {
   "cell_type": "markdown",
   "id": "herbal-liberia",
   "metadata": {},
   "source": [
    "**Soru 9:**\n",
    "\n",
    "Parametre olarak bir sayı alan bir fonksiyon yazın. <br>\n",
    "Fonksiyon bu sayının logaritmasını dönsün. <br>\n",
    "* Logaritma için -> math.log()"
   ]
  },
  {
   "cell_type": "code",
   "execution_count": 65,
   "id": "acting-drill",
   "metadata": {},
   "outputs": [
    {
     "data": {
      "text/plain": [
       "1.3862943611198906"
      ]
     },
     "execution_count": 65,
     "metadata": {},
     "output_type": "execute_result"
    }
   ],
   "source": [
    "# Çözüm 9:\n",
    "import math\n",
    "\n",
    "sayi2 = 4\n",
    "\n",
    "def karekok(number2):\n",
    "    \n",
    "    return(math.log(number2))\n",
    "\n",
    "karekok(sayi2)"
   ]
  },
  {
   "cell_type": "markdown",
   "id": "equal-electronics",
   "metadata": {},
   "source": [
    "---"
   ]
  },
  {
   "cell_type": "markdown",
   "id": "returning-checkout",
   "metadata": {},
   "source": [
    "**Soru 10:**\n",
    "\n",
    "Parametre olarak 2 sayı alan bir fonksiyon yazın. <br>\n",
    "Bu sayıları bir dik üçgenin dik kenarları  olarak düşünelim.\n",
    "Fonksiyon bu üçgenin hipotenüsünü dönsün. <br>\n",
    "$$ hipo^2 = a^2 + b^2 $$"
   ]
  },
  {
   "cell_type": "code",
   "execution_count": 74,
   "id": "activated-keeping",
   "metadata": {},
   "outputs": [
    {
     "data": {
      "text/plain": [
       "5.0"
      ]
     },
     "execution_count": 74,
     "metadata": {},
     "output_type": "execute_result"
    }
   ],
   "source": [
    "# Çözüm 10:\n",
    "import math\n",
    "\n",
    "sayi1 = 3\n",
    "sayi2 = 4\n",
    "\n",
    "def numbers(a, b):\n",
    "    hipo = (a ** 2) + (b ** 2)\n",
    "    \n",
    "    return(math.sqrt(hipo))\n",
    "\n",
    "numbers(sayi1, sayi2)"
   ]
  }
 ],
 "metadata": {
  "kernelspec": {
   "display_name": "Python 3 (ipykernel)",
   "language": "python",
   "name": "python3"
  },
  "language_info": {
   "codemirror_mode": {
    "name": "ipython",
    "version": 3
   },
   "file_extension": ".py",
   "mimetype": "text/x-python",
   "name": "python",
   "nbconvert_exporter": "python",
   "pygments_lexer": "ipython3",
   "version": "3.9.13"
  }
 },
 "nbformat": 4,
 "nbformat_minor": 5
}
